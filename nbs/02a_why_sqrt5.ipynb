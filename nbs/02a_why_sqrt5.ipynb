{
  "cells" : [
    {
      "cell_type" : "code",
      "source" : [
        "%install-location $cwd\/swift-install\n",
        "%install '.package(path: \"$cwd\/FastaiNotebook_02_fully_connected\")' FastaiNotebook_02_fully_connected"
      ],
      "metadata" : {
        
      },
      "execution_count" : null,
      "outputs" : [
        {
          "output_type" : "stream",
          "name" : "stdout",
          "text" : [
            "Installing packages:\n",
            "\t.package(path: \"\/home\/jupyter\/git\/fastai_dev\/swift\/FastaiNotebook_02_fully_connected\")\n",
            "\t\tFastaiNotebook_02_fully_connected\n",
            "With SwiftPM flags: []\n",
            "Working in: \/tmp\/tmpzfv5xzmk\/swift-install\n",
            "warning: \/home\/jupyter\/swift\/usr\/bin\/swiftc: \/home\/jupyter\/anaconda3\/lib\/libuuid.so.1: no version information available (required by \/home\/jupyter\/swift\/usr\/bin\/swiftc)\n",
            "\/home\/jupyter\/swift\/usr\/bin\/swift: \/home\/jupyter\/anaconda3\/lib\/libuuid.so.1: no version information available (required by \/home\/jupyter\/swift\/usr\/bin\/swift)\n",
            "warning: \/home\/jupyter\/swift\/usr\/bin\/swiftc: \/home\/jupyter\/anaconda3\/lib\/libuuid.so.1: no version information available (required by \/home\/jupyter\/swift\/usr\/bin\/swiftc)\n",
            "\/home\/jupyter\/swift\/usr\/bin\/swift: \/home\/jupyter\/anaconda3\/lib\/libuuid.so.1: no version information available (required by \/home\/jupyter\/swift\/usr\/bin\/swift)\n",
            "warning: \/home\/jupyter\/swift\/usr\/bin\/swiftc: \/home\/jupyter\/anaconda3\/lib\/libuuid.so.1: no version information available (required by \/home\/jupyter\/swift\/usr\/bin\/swiftc)\n",
            "\/home\/jupyter\/swift\/usr\/bin\/swift: \/home\/jupyter\/anaconda3\/lib\/libuuid.so.1: no version information available (required by \/home\/jupyter\/swift\/usr\/bin\/swift)\n",
            "warning: \/home\/jupyter\/swift\/usr\/bin\/swiftc: \/home\/jupyter\/anaconda3\/lib\/libuuid.so.1: no version information available (required by \/home\/jupyter\/swift\/usr\/bin\/swiftc)\n",
            "\/home\/jupyter\/swift\/usr\/bin\/swift: \/home\/jupyter\/anaconda3\/lib\/libuuid.so.1: no version information available (required by \/home\/jupyter\/swift\/usr\/bin\/swift)\n",
            "warning: \/home\/jupyter\/swift\/usr\/bin\/swiftc: \/home\/jupyter\/anaconda3\/lib\/libuuid.so.1: no version information available (required by \/home\/jupyter\/swift\/usr\/bin\/swiftc)\n",
            "\/home\/jupyter\/swift\/usr\/bin\/swift: \/home\/jupyter\/anaconda3\/lib\/libuuid.so.1: no version information available (required by \/home\/jupyter\/swift\/usr\/bin\/swift)\n",
            "warning: \/home\/jupyter\/swift\/usr\/bin\/swiftc: \/home\/jupyter\/anaconda3\/lib\/libuuid.so.1: no version information available (required by \/home\/jupyter\/swift\/usr\/bin\/swiftc)\n",
            "\/home\/jupyter\/swift\/usr\/bin\/swift: \/home\/jupyter\/anaconda3\/lib\/libuuid.so.1: no version information available (required by \/home\/jupyter\/swift\/usr\/bin\/swift)\n",
            "warning: \/home\/jupyter\/swift\/usr\/bin\/swiftc: \/home\/jupyter\/anaconda3\/lib\/libuuid.so.1: no version information available (required by \/home\/jupyter\/swift\/usr\/bin\/swiftc)\n",
            "\/home\/jupyter\/swift\/usr\/bin\/swift: \/home\/jupyter\/anaconda3\/lib\/libuuid.so.1: no version information available (required by \/home\/jupyter\/swift\/usr\/bin\/swift)\n",
            "warning: \/home\/jupyter\/swift\/usr\/bin\/swiftc: \/home\/jupyter\/anaconda3\/lib\/libuuid.so.1: no version information available (required by \/home\/jupyter\/swift\/usr\/bin\/swiftc)\n",
            "\/home\/jupyter\/swift\/usr\/bin\/swift: \/home\/jupyter\/anaconda3\/lib\/libuuid.so.1: no version information available (required by \/home\/jupyter\/swift\/usr\/bin\/swift)\n",
            "\/home\/jupyter\/swift\/usr\/bin\/swiftc: \/home\/jupyter\/anaconda3\/lib\/libuuid.so.1: no version information available (required by \/home\/jupyter\/swift\/usr\/bin\/swiftc)\n",
            "\/home\/jupyter\/swift\/usr\/bin\/swiftc: \/home\/jupyter\/anaconda3\/lib\/libuuid.so.1: no version information available (required by \/home\/jupyter\/swift\/usr\/bin\/swiftc)[1\/4] Compiling FastaiNotebook_01a_fastai_layers 01_matmul.swift\n",
            "\/home\/jupyter\/swift\/usr\/bin\/swift: \/home\/jupyter\/anaconda3\/lib\/libuuid.so.1: no version information available (required by \/home\/jupyter\/swift\/usr\/bin\/swift)\n",
            "[2\/4] Compiling FastaiNotebook_01a_fastai_layers 00_load_data.swift\n",
            "\/home\/jupyter\/swift\/usr\/bin\/swift: \/home\/jupyter\/anaconda3\/lib\/libuuid.so.1: no version information available (required by \/home\/jupyter\/swift\/usr\/bin\/swift)\n",
            "[3\/4] Compiling FastaiNotebook_01a_fastai_layers 01a_fastai_layers.swift\n",
            "\/home\/jupyter\/swift\/usr\/bin\/swift: \/home\/jupyter\/anaconda3\/lib\/libuuid.so.1: no version information available (required by \/home\/jupyter\/swift\/usr\/bin\/swift)\n",
            "[4\/5] Merging module FastaiNotebook_01a_fastai_layers\n",
            "\/home\/jupyter\/swift\/usr\/bin\/swift: \/home\/jupyter\/anaconda3\/lib\/libuuid.so.1: no version information available (required by \/home\/jupyter\/swift\/usr\/bin\/swift)\n",
            "\/home\/jupyter\/swift\/usr\/bin\/swiftc: \/home\/jupyter\/anaconda3\/lib\/libuuid.so.1: no version information available (required by \/home\/jupyter\/swift\/usr\/bin\/swiftc)[5\/9] Compiling FastaiNotebook_02_fully_connected 01_matmul.swift\n",
            "\/home\/jupyter\/swift\/usr\/bin\/swift: \/home\/jupyter\/anaconda3\/lib\/libuuid.so.1: no version information available (required by \/home\/jupyter\/swift\/usr\/bin\/swift)\n",
            "[6\/9] Compiling FastaiNotebook_02_fully_connected 02_fully_connected.swift\n",
            "\/home\/jupyter\/swift\/usr\/bin\/swift: \/home\/jupyter\/anaconda3\/lib\/libuuid.so.1: no version information available (required by \/home\/jupyter\/swift\/usr\/bin\/swift)\n",
            "[7\/9] Compiling FastaiNotebook_02_fully_connected 00_load_data.swift\n",
            "\/home\/jupyter\/swift\/usr\/bin\/swift: \/home\/jupyter\/anaconda3\/lib\/libuuid.so.1: no version information available (required by \/home\/jupyter\/swift\/usr\/bin\/swift)\n",
            "[8\/9] Compiling FastaiNotebook_02_fully_connected 01a_fastai_layers.swift\n",
            "\/home\/jupyter\/swift\/usr\/bin\/swift: \/home\/jupyter\/anaconda3\/lib\/libuuid.so.1: no version information available (required by \/home\/jupyter\/swift\/usr\/bin\/swift)\n",
            "[9\/10] Merging module FastaiNotebook_02_fully_connected\n",
            "\/home\/jupyter\/swift\/usr\/bin\/swift: \/home\/jupyter\/anaconda3\/lib\/libuuid.so.1: no version information available (required by \/home\/jupyter\/swift\/usr\/bin\/swift)\n",
            "\/home\/jupyter\/swift\/usr\/bin\/swiftc: \/home\/jupyter\/anaconda3\/lib\/libuuid.so.1: no version information available (required by \/home\/jupyter\/swift\/usr\/bin\/swiftc)[10\/11] Compiling jupyterInstalledPackages jupyterInstalledPackages.swift\n",
            "\/home\/jupyter\/swift\/usr\/bin\/swift: \/home\/jupyter\/anaconda3\/lib\/libuuid.so.1: no version information available (required by \/home\/jupyter\/swift\/usr\/bin\/swift)\n",
            "[11\/12] Merging module jupyterInstalledPackages\n",
            "\/home\/jupyter\/swift\/usr\/bin\/swift: \/home\/jupyter\/anaconda3\/lib\/libuuid.so.1: no version information available (required by \/home\/jupyter\/swift\/usr\/bin\/swift)\n",
            "\/home\/jupyter\/swift\/usr\/bin\/swiftc: \/home\/jupyter\/anaconda3\/lib\/libuuid.so.1: no version information available (required by \/home\/jupyter\/swift\/usr\/bin\/swiftc)\n",
            "\/home\/jupyter\/swift\/usr\/bin\/swift-autolink-extract: \/home\/jupyter\/anaconda3\/lib\/libuuid.so.1: no version information available (required by \/home\/jupyter\/swift\/usr\/bin\/swift-autolink-extract)\n",
            "[12\/12] Linking libjupyterInstalledPackages.so\n",
            "Initializing Swift...\n",
            "Installation complete!\n"
          ]
        }
      ]
    },
    {
      "source" : [
        "\/\/ export\n",
        "import Foundation\n",
        "import TensorFlow\n",
        "import Path"
      ],
      "cell_type" : "code",
      "metadata" : {
        
      },
      "execution_count" : null,
      "outputs" : [
        
      ]
    },
    {
      "cell_type" : "code",
      "source" : [
        "import FastaiNotebook_02_fully_connected"
      ],
      "metadata" : {
        
      },
      "execution_count" : null,
      "outputs" : [
        
      ]
    },
    {
      "metadata" : {
        
      },
      "source" : [
        "## Does nn.Conv2d init work well?"
      ],
      "cell_type" : "markdown"
    },
    {
      "source" : [
        "var (xTrain, yTrain, xValid, yValid) = loadMNIST(path: Path.home\/\".fastai\"\/\"data\"\/\"mnist_tst\")\n",
        "let (trainMean, trainStd) = (xTrain.mean(), xTrain.standardDeviation())\n",
        "xTrain = normalize(xTrain, mean: trainMean, std: trainStd)\n",
        "xValid = normalize(xValid, mean: trainMean, std: trainStd)"
      ],
      "cell_type" : "code",
      "metadata" : {
        
      },
      "execution_count" : null,
      "outputs" : [
        
      ]
    },
    {
      "source" : [
        "xTrain = xTrain.reshaped(to: [xTrain.shape[0], 28, 28, 1])\n",
        "xValid = xValid.reshaped(to: [xValid.shape[0], 28, 28, 1])\n",
        "print(xTrain.shape, xValid.shape)"
      ],
      "cell_type" : "code",
      "metadata" : {
        
      },
      "execution_count" : null,
      "outputs" : [
        {
          "name" : "stdout",
          "output_type" : "stream",
          "text" : [
            "[60000, 28, 28, 1] [10000, 28, 28, 1]\r\n"
          ]
        }
      ]
    },
    {
      "cell_type" : "code",
      "source" : [
        "let images = xTrain.shape[0]\n",
        "let classes = xValid.max() + 1\n",
        "let channels = 32"
      ],
      "metadata" : {
        
      },
      "execution_count" : null,
      "outputs" : [
        
      ]
    },
    {
      "source" : [
        "var layer1 = FAConv2D<Float>(filterShape: (5, 5, 1, channels)) \/\/Conv2D(1, nh, 5)"
      ],
      "cell_type" : "code",
      "metadata" : {
        
      },
      "execution_count" : null,
      "outputs" : [
        
      ]
    },
    {
      "cell_type" : "code",
      "source" : [
        "let x = xValid[0..<100]"
      ],
      "metadata" : {
        
      },
      "execution_count" : null,
      "outputs" : [
        
      ]
    },
    {
      "source" : [
        "x.shape"
      ],
      "cell_type" : "code",
      "metadata" : {
        
      },
      "execution_count" : null,
      "outputs" : [
        {
          "output_type" : "execute_result",
          "metadata" : {
            
          },
          "execution_count" : null,
          "data" : {
            "text\/plain" : [
              "▿ [100, 28, 28, 1]\n",
              "  ▿ dimensions : 4 elements\n",
              "    - 0 : 100\n",
              "    - 1 : 28\n",
              "    - 2 : 28\n",
              "    - 3 : 1\n"
            ]
          }
        }
      ]
    },
    {
      "source" : [
        "extension Tensor where Scalar: TensorFlowFloatingPoint {\n",
        "    func stats() -> (mean: Tensor, std: Tensor) {\n",
        "        return (mean: mean(), std: standardDeviation())\n",
        "    }\n",
        "}"
      ],
      "cell_type" : "code",
      "metadata" : {
        
      },
      "execution_count" : null,
      "outputs" : [
        
      ]
    },
    {
      "cell_type" : "code",
      "source" : [
        "(filter: layer1.filter.stats(), bias: layer1.bias.stats())"
      ],
      "metadata" : {
        
      },
      "execution_count" : null,
      "outputs" : [
        {
          "output_type" : "execute_result",
          "metadata" : {
            
          },
          "execution_count" : null,
          "data" : {
            "text\/plain" : [
              "▿ 2 elements\n",
              "  ▿ filter : 2 elements\n",
              "    - mean : -0.0048739817\n",
              "    - std : 0.20316689\n",
              "  ▿ bias : 2 elements\n",
              "    - mean : 0.0\n",
              "    - std : 0.0\n"
            ]
          }
        }
      ]
    },
    {
      "source" : [
        "withDevice(.cpu){\n",
        "    let result = layer1(x)\n",
        "}"
      ],
      "cell_type" : "code",
      "metadata" : {
        
      },
      "execution_count" : null,
      "outputs" : [
        
      ]
    },
    {
      "cell_type" : "code",
      "source" : [
        "let result = layer1(x)"
      ],
      "metadata" : {
        
      },
      "execution_count" : null,
      "outputs" : [
        
      ]
    },
    {
      "cell_type" : "code",
      "source" : [
        "result.stats()"
      ],
      "metadata" : {
        
      },
      "execution_count" : null,
      "outputs" : [
        {
          "output_type" : "execute_result",
          "metadata" : {
            
          },
          "execution_count" : null,
          "data" : {
            "text\/plain" : [
              "▿ 2 elements\n",
              "  - mean : 0.0013046617\n",
              "  - std : 0.958224\n"
            ]
          }
        }
      ]
    },
    {
      "source" : [
        "This is in 1a now so this code is disabled from here:\n",
        "\n",
        "```swift\n",
        "var rng = PhiloxRandomNumberGenerator.global\n",
        "\n",
        "extension Tensor where Scalar: TensorFlowFloatingPoint {\n",
        "    init(kaimingNormal shape: TensorShape, negativeSlope: Double = 1.0) {\n",
        "        \/\/ Assumes Leaky ReLU nonlinearity\n",
        "        let gain = Scalar(sqrt(2.0 \/ (1.0 + pow(negativeSlope, 2))))\n",
        "        let spatialDimCount = shape.count - 2\n",
        "        let receptiveField = shape[0..<spatialDimCount].contiguousSize\n",
        "        let fanIn = shape[shape.count - 2] * receptiveField\n",
        "        self.init(randomNormal: shape,\n",
        "                  stddev: gain \/ sqrt(Scalar(fanIn)),\n",
        "                  generator: &rng\n",
        "        )\n",
        "    }\n",
        "}\n",
        "```"
      ],
      "metadata" : {
        
      },
      "cell_type" : "markdown"
    },
    {
      "cell_type" : "code",
      "source" : [
        "layer1.filter = Tensor(kaimingNormal: layer1.filter.shape, negativeSlope: 1.0)\n",
        "layer1(x).stats()"
      ],
      "metadata" : {
        
      },
      "execution_count" : null,
      "outputs" : [
        {
          "output_type" : "execute_result",
          "metadata" : {
            
          },
          "execution_count" : null,
          "data" : {
            "text\/plain" : [
              "▿ 2 elements\n",
              "  - mean : 0.001493528\n",
              "  - std : 0.9472369\n"
            ]
          }
        }
      ]
    },
    {
      "cell_type" : "code",
      "source" : [
        "\/\/ export\n",
        "func leakyRelu<T: TensorFlowFloatingPoint>(\n",
        "    _ x: Tensor<T>,\n",
        "    negativeSlope: Double = 0.0\n",
        ") -> Tensor<T> {\n",
        "    return max(0, x) + T(negativeSlope) * min(0, x)\n",
        "}"
      ],
      "metadata" : {
        
      },
      "execution_count" : null,
      "outputs" : [
        
      ]
    },
    {
      "cell_type" : "code",
      "source" : [
        "layer1.filter = Tensor(kaimingNormal: layer1.filter.shape, negativeSlope: 0.0)\n",
        "leakyRelu(layer1(x)).stats()"
      ],
      "metadata" : {
        
      },
      "execution_count" : null,
      "outputs" : [
        {
          "output_type" : "execute_result",
          "metadata" : {
            
          },
          "execution_count" : null,
          "data" : {
            "text\/plain" : [
              "▿ 2 elements\n",
              "  - mean : 0.41605353\n",
              "  - std : 0.81414527\n"
            ]
          }
        }
      ]
    },
    {
      "source" : [
        "var layer1 = FAConv2D<Float>(filterShape: (5, 5, 1, channels)) \/\/Conv2D(1, nh, 5)\n",
        "leakyRelu(layer1(x)).stats()"
      ],
      "cell_type" : "code",
      "metadata" : {
        
      },
      "execution_count" : null,
      "outputs" : [
        {
          "output_type" : "execute_result",
          "metadata" : {
            
          },
          "execution_count" : null,
          "data" : {
            "text\/plain" : [
              "▿ 2 elements\n",
              "  - mean : 0.30673978\n",
              "  - std : 0.5740978\n"
            ]
          }
        }
      ]
    },
    {
      "cell_type" : "code",
      "source" : [
        "layer1.filter.shape"
      ],
      "metadata" : {
        
      },
      "execution_count" : null,
      "outputs" : [
        {
          "output_type" : "execute_result",
          "metadata" : {
            
          },
          "execution_count" : null,
          "data" : {
            "text\/plain" : [
              "▿ [5, 5, 1, 32]\n",
              "  ▿ dimensions : 4 elements\n",
              "    - 0 : 5\n",
              "    - 1 : 5\n",
              "    - 2 : 1\n",
              "    - 3 : 32\n"
            ]
          }
        }
      ]
    },
    {
      "source" : [
        "let spatialDimCount = layer1.filter.rank - 2\n",
        "let receptiveField = layer1.filter.shape[0..<spatialDimCount].contiguousSize\n",
        "receptiveField"
      ],
      "cell_type" : "code",
      "metadata" : {
        
      },
      "execution_count" : null,
      "outputs" : [
        {
          "output_type" : "execute_result",
          "metadata" : {
            
          },
          "execution_count" : null,
          "data" : {
            "text\/plain" : [
              "25\n"
            ]
          }
        }
      ]
    },
    {
      "cell_type" : "code",
      "source" : [
        "let filtersIn = layer1.filter.shape[2]\n",
        "let filtersOut = layer1.filter.shape[3]\n",
        "print(filtersIn, filtersOut)"
      ],
      "metadata" : {
        
      },
      "execution_count" : null,
      "outputs" : [
        {
          "name" : "stdout",
          "output_type" : "stream",
          "text" : [
            "1 32\r\n"
          ]
        }
      ]
    },
    {
      "source" : [
        "let fanIn = filtersIn * receptiveField\n",
        "let fanOut = filtersOut * receptiveField\n",
        "print(fanIn, fanOut)"
      ],
      "cell_type" : "code",
      "metadata" : {
        
      },
      "execution_count" : null,
      "outputs" : [
        {
          "output_type" : "stream",
          "name" : "stdout",
          "text" : [
            "25 800\r\n"
          ]
        }
      ]
    },
    {
      "cell_type" : "code",
      "source" : [
        "func gain(_ negativeSlope: Double) -> Double {\n",
        "    return sqrt(2.0 \/ (1.0 + pow(negativeSlope, 2.0)))\n",
        "}"
      ],
      "metadata" : {
        
      },
      "execution_count" : null,
      "outputs" : [
        
      ]
    },
    {
      "source" : [
        "(gain(1.0), gain(0.0), gain(0.01), gain(0.1), gain(sqrt(5.0)))"
      ],
      "cell_type" : "code",
      "metadata" : {
        
      },
      "execution_count" : null,
      "outputs" : [
        {
          "output_type" : "execute_result",
          "metadata" : {
            
          },
          "execution_count" : null,
          "data" : {
            "text\/plain" : [
              "▿ 5 elements\n",
              "  - .0 : 1.0\n",
              "  - .1 : 1.4142135623730951\n",
              "  - .2 : 1.4141428569978354\n",
              "  - .3 : 1.4071950894605838\n",
              "  - .4 : 0.5773502691896257\n"
            ]
          }
        }
      ]
    },
    {
      "cell_type" : "code",
      "source" : [
        "(2 * Tensor<Float>(randomUniform: [10000]) - 1).standardDeviation()"
      ],
      "metadata" : {
        
      },
      "execution_count" : null,
      "outputs" : [
        {
          "output_type" : "execute_result",
          "metadata" : {
            
          },
          "execution_count" : null,
          "data" : {
            "text\/plain" : [
              "0.577814\n"
            ]
          }
        }
      ]
    },
    {
      "cell_type" : "code",
      "source" : [
        "1.0 \/ sqrt(3.0)"
      ],
      "metadata" : {
        
      },
      "execution_count" : null,
      "outputs" : [
        {
          "output_type" : "execute_result",
          "metadata" : {
            
          },
          "execution_count" : null,
          "data" : {
            "text\/plain" : [
              "0.5773502691896258\n"
            ]
          }
        }
      ]
    },
    {
      "cell_type" : "code",
      "source" : [
        "\/\/ export\n",
        "extension Tensor where Scalar: TensorFlowFloatingPoint {\n",
        "    init(kaimingUniform shape: TensorShape, negativeSlope: Double = 1.0) {\n",
        "        \/\/ Assumes Leaky ReLU nonlinearity\n",
        "        let gain = Scalar.init(TensorFlow.sqrt(2.0 \/ (1.0 + TensorFlow.pow(negativeSlope, 2))))\n",
        "        let spatialDimCount = shape.count - 2\n",
        "        let receptiveField = shape[0..<spatialDimCount].contiguousSize\n",
        "        let fanIn = shape[shape.count - 2] * receptiveField\n",
        "        let bound = TensorFlow.sqrt(Scalar(3.0)) * gain \/ TensorFlow.sqrt(Scalar(fanIn))\n",
        "        self = bound * (2 * Tensor(randomUniform: shape) - 1)\n",
        "    }\n",
        "}"
      ],
      "metadata" : {
        
      },
      "execution_count" : null,
      "outputs" : [
        
      ]
    },
    {
      "source" : [
        "layer1.filter = Tensor(kaimingUniform: layer1.filter.shape, negativeSlope: 0.0)\n",
        "leakyRelu(layer1(x)).stats()"
      ],
      "cell_type" : "code",
      "metadata" : {
        
      },
      "execution_count" : null,
      "outputs" : [
        {
          "output_type" : "execute_result",
          "metadata" : {
            
          },
          "execution_count" : null,
          "data" : {
            "text\/plain" : [
              "▿ 2 elements\n",
              "  - mean : 0.44555718\n",
              "  - std : 0.9223726\n"
            ]
          }
        }
      ]
    },
    {
      "source" : [
        "layer1.filter = Tensor(kaimingUniform: layer1.filter.shape, negativeSlope: sqrt(5.0))\n",
        "leakyRelu(layer1(x)).stats()"
      ],
      "cell_type" : "code",
      "metadata" : {
        
      },
      "execution_count" : null,
      "outputs" : [
        {
          "output_type" : "execute_result",
          "metadata" : {
            
          },
          "execution_count" : null,
          "data" : {
            "text\/plain" : [
              "▿ 2 elements\n",
              "  - mean : 0.17701441\n",
              "  - std : 0.36191067\n"
            ]
          }
        }
      ]
    },
    {
      "source" : [
        "public struct Model: Layer {\n",
        "    public var conv1 = FAConv2D<Float>(\n",
        "        filterShape: (5, 5, 1, 8),   strides: (2, 2), padding: .same, activation: relu\n",
        "    )\n",
        "    public var conv2 = FAConv2D<Float>(\n",
        "        filterShape: (3, 3, 8, 16),  strides: (2, 2), padding: .same, activation: relu\n",
        "    )\n",
        "    public var conv3 = FAConv2D<Float>(\n",
        "        filterShape: (3, 3, 16, 32), strides: (2, 2), padding: .same, activation: relu\n",
        "    )\n",
        "    public var conv4 = FAConv2D<Float>(\n",
        "        filterShape: (3, 3, 32, 1),  strides: (2, 2), padding: .valid\n",
        "    )\n",
        "    public var flatten = Flatten<Float>()\n",
        "\n",
        "    @differentiable\n",
        "    public func callAsFunction(_ input: Tensor<Float>) -> Tensor<Float> {\n",
        "        return input.sequenced(through: conv1, conv2, conv3, conv4, flatten)\n",
        "    }\n",
        "}"
      ],
      "cell_type" : "code",
      "metadata" : {
        
      },
      "execution_count" : null,
      "outputs" : [
        
      ]
    },
    {
      "cell_type" : "code",
      "source" : [
        "let y = Tensor<Float>(yValid[0..<100])\n",
        "var model = Model()"
      ],
      "metadata" : {
        
      },
      "execution_count" : null,
      "outputs" : [
        
      ]
    },
    {
      "source" : [
        "let prediction = model(x)\n",
        "prediction.stats()"
      ],
      "cell_type" : "code",
      "metadata" : {
        
      },
      "execution_count" : null,
      "outputs" : [
        {
          "output_type" : "execute_result",
          "metadata" : {
            
          },
          "execution_count" : null,
          "data" : {
            "text\/plain" : [
              "▿ 2 elements\n",
              "  - mean : 0.18727446\n",
              "  - std : 0.15831667\n"
            ]
          }
        }
      ]
    },
    {
      "source" : [
        "let gradients = gradient(at: model) { model in\n",
        "    meanSquaredError(predicted: model(x), expected: y)\n",
        "}\n",
        "\n",
        "gradients.conv1.filter.stats()"
      ],
      "cell_type" : "code",
      "metadata" : {
        
      },
      "execution_count" : null,
      "outputs" : [
        {
          "output_type" : "execute_result",
          "metadata" : {
            
          },
          "execution_count" : null,
          "data" : {
            "text\/plain" : [
              "▿ 2 elements\n",
              "  - mean : -0.052186128\n",
              "  - std : 0.33932656\n"
            ]
          }
        }
      ]
    },
    {
      "cell_type" : "code",
      "source" : [
        "for keyPath in [\\Model.conv1, \\Model.conv2, \\Model.conv3, \\Model.conv4] {\n",
        "    model[keyPath: keyPath].filter = Tensor(kaimingUniform: model[keyPath: keyPath].filter.shape)\n",
        "}"
      ],
      "metadata" : {
        
      },
      "execution_count" : null,
      "outputs" : [
        
      ]
    },
    {
      "source" : [
        "let prediction = model(x)\n",
        "prediction.stats()"
      ],
      "cell_type" : "code",
      "metadata" : {
        
      },
      "execution_count" : null,
      "outputs" : [
        {
          "output_type" : "execute_result",
          "metadata" : {
            
          },
          "execution_count" : null,
          "data" : {
            "text\/plain" : [
              "▿ 2 elements\n",
              "  - mean : -0.07902523\n",
              "  - std : 0.20309263\n"
            ]
          }
        }
      ]
    },
    {
      "cell_type" : "code",
      "source" : [
        "let gradients = gradient(at: model) { model in\n",
        "    meanSquaredError(predicted: model(x), expected: y)\n",
        "}\n",
        "\n",
        "gradients.conv1.filter.stats()"
      ],
      "metadata" : {
        
      },
      "execution_count" : null,
      "outputs" : [
        {
          "output_type" : "execute_result",
          "metadata" : {
            
          },
          "execution_count" : null,
          "data" : {
            "text\/plain" : [
              "▿ 2 elements\n",
              "  - mean : -0.033189915\n",
              "  - std : 0.3524679\n"
            ]
          }
        }
      ]
    },
    {
      "source" : [
        "## Export"
      ],
      "metadata" : {
        
      },
      "cell_type" : "markdown"
    },
    {
      "cell_type" : "code",
      "source" : [
        "import NotebookExport\n",
        "let exporter = NotebookExport(Path.cwd\/\"02a_why_sqrt5.ipynb\")\n",
        "print(exporter.export(usingPrefix: \"FastaiNotebook_\"))"
      ],
      "metadata" : {
        
      },
      "execution_count" : null,
      "outputs" : [
        {
          "name" : "stdout",
          "output_type" : "stream",
          "text" : [
            "success\r\n"
          ]
        }
      ]
    },
    {
      "cell_type" : "code",
      "source" : [
        
      ],
      "metadata" : {
        
      },
      "execution_count" : null,
      "outputs" : [
        
      ]
    }
  ],
  "nbformat" : 4,
  "metadata" : {
    "kernelspec" : {
      "display_name" : "Swift",
      "name" : "swift",
      "language" : "swift"
    }
  },
  "nbformat_minor" : 1
}