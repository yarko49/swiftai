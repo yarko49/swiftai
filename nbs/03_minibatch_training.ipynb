{
  "nbformat_minor" : 2,
  "cells" : [
    {
      "cell_type" : "markdown",
      "source" : [
        "# Minibatch training"
      ],
      "metadata" : {
        
      }
    },
    {
      "metadata" : {
        
      },
      "source" : [
        "%install-location $cwd\/swift-install\n",
        "%install '.package(path: \"$cwd\/FastaiNotebook_02a_why_sqrt5\")' FastaiNotebook_02a_why_sqrt5"
      ],
      "outputs" : [
        {
          "name" : "stdout",
          "output_type" : "stream",
          "text" : [
            "Installing packages:\n",
            "\t.package(path: \"\/home\/jupyter\/git\/fastai_dev\/swift\/FastaiNotebook_02a_why_sqrt5\")\n",
            "\t\tFastaiNotebook_02a_why_sqrt5\n",
            "With SwiftPM flags: []\n",
            "Working in: \/tmp\/tmp0pi615y7\/swift-install\n",
            "warning: \/home\/jupyter\/swift\/usr\/bin\/swiftc: \/home\/jupyter\/anaconda3\/lib\/libuuid.so.1: no version information available (required by \/home\/jupyter\/swift\/usr\/bin\/swiftc)\n",
            "\/home\/jupyter\/swift\/usr\/bin\/swift: \/home\/jupyter\/anaconda3\/lib\/libuuid.so.1: no version information available (required by \/home\/jupyter\/swift\/usr\/bin\/swift)\n",
            "warning: \/home\/jupyter\/swift\/usr\/bin\/swiftc: \/home\/jupyter\/anaconda3\/lib\/libuuid.so.1: no version information available (required by \/home\/jupyter\/swift\/usr\/bin\/swiftc)\n",
            "\/home\/jupyter\/swift\/usr\/bin\/swift: \/home\/jupyter\/anaconda3\/lib\/libuuid.so.1: no version information available (required by \/home\/jupyter\/swift\/usr\/bin\/swift)\n",
            "warning: \/home\/jupyter\/swift\/usr\/bin\/swiftc: \/home\/jupyter\/anaconda3\/lib\/libuuid.so.1: no version information available (required by \/home\/jupyter\/swift\/usr\/bin\/swiftc)\n",
            "\/home\/jupyter\/swift\/usr\/bin\/swift: \/home\/jupyter\/anaconda3\/lib\/libuuid.so.1: no version information available (required by \/home\/jupyter\/swift\/usr\/bin\/swift)\n",
            "warning: \/home\/jupyter\/swift\/usr\/bin\/swiftc: \/home\/jupyter\/anaconda3\/lib\/libuuid.so.1: no version information available (required by \/home\/jupyter\/swift\/usr\/bin\/swiftc)\n",
            "\/home\/jupyter\/swift\/usr\/bin\/swift: \/home\/jupyter\/anaconda3\/lib\/libuuid.so.1: no version information available (required by \/home\/jupyter\/swift\/usr\/bin\/swift)\n",
            "warning: \/home\/jupyter\/swift\/usr\/bin\/swiftc: \/home\/jupyter\/anaconda3\/lib\/libuuid.so.1: no version information available (required by \/home\/jupyter\/swift\/usr\/bin\/swiftc)\n",
            "\/home\/jupyter\/swift\/usr\/bin\/swift: \/home\/jupyter\/anaconda3\/lib\/libuuid.so.1: no version information available (required by \/home\/jupyter\/swift\/usr\/bin\/swift)\n",
            "warning: \/home\/jupyter\/swift\/usr\/bin\/swiftc: \/home\/jupyter\/anaconda3\/lib\/libuuid.so.1: no version information available (required by \/home\/jupyter\/swift\/usr\/bin\/swiftc)\n",
            "\/home\/jupyter\/swift\/usr\/bin\/swift: \/home\/jupyter\/anaconda3\/lib\/libuuid.so.1: no version information available (required by \/home\/jupyter\/swift\/usr\/bin\/swift)\n",
            "warning: \/home\/jupyter\/swift\/usr\/bin\/swiftc: \/home\/jupyter\/anaconda3\/lib\/libuuid.so.1: no version information available (required by \/home\/jupyter\/swift\/usr\/bin\/swiftc)\n",
            "\/home\/jupyter\/swift\/usr\/bin\/swift: \/home\/jupyter\/anaconda3\/lib\/libuuid.so.1: no version information available (required by \/home\/jupyter\/swift\/usr\/bin\/swift)\n",
            "warning: \/home\/jupyter\/swift\/usr\/bin\/swiftc: \/home\/jupyter\/anaconda3\/lib\/libuuid.so.1: no version information available (required by \/home\/jupyter\/swift\/usr\/bin\/swiftc)\n",
            "\/home\/jupyter\/swift\/usr\/bin\/swift: \/home\/jupyter\/anaconda3\/lib\/libuuid.so.1: no version information available (required by \/home\/jupyter\/swift\/usr\/bin\/swift)\n",
            "warning: \/home\/jupyter\/swift\/usr\/bin\/swiftc: \/home\/jupyter\/anaconda3\/lib\/libuuid.so.1: no version information available (required by \/home\/jupyter\/swift\/usr\/bin\/swiftc)\n",
            "\/home\/jupyter\/swift\/usr\/bin\/swift: \/home\/jupyter\/anaconda3\/lib\/libuuid.so.1: no version information available (required by \/home\/jupyter\/swift\/usr\/bin\/swift)\n",
            "\/home\/jupyter\/swift\/usr\/bin\/swiftc: \/home\/jupyter\/anaconda3\/lib\/libuuid.so.1: no version information available (required by \/home\/jupyter\/swift\/usr\/bin\/swiftc)\n",
            "\/home\/jupyter\/swift\/usr\/bin\/swiftc: \/home\/jupyter\/anaconda3\/lib\/libuuid.so.1: no version information available (required by \/home\/jupyter\/swift\/usr\/bin\/swiftc)[1\/2] Compiling jupyterInstalledPackages jupyterInstalledPackages.swift\n",
            "\/home\/jupyter\/swift\/usr\/bin\/swift: \/home\/jupyter\/anaconda3\/lib\/libuuid.so.1: no version information available (required by \/home\/jupyter\/swift\/usr\/bin\/swift)\n",
            "[2\/3] Merging module jupyterInstalledPackages\n",
            "\/home\/jupyter\/swift\/usr\/bin\/swift: \/home\/jupyter\/anaconda3\/lib\/libuuid.so.1: no version information available (required by \/home\/jupyter\/swift\/usr\/bin\/swift)\n",
            "Initializing Swift...\n",
            "Installation complete!\n"
          ]
        }
      ],
      "execution_count" : null,
      "cell_type" : "code"
    },
    {
      "metadata" : {
        
      },
      "source" : [
        "\/\/ export\n",
        "import Path\n",
        "import TensorFlow"
      ],
      "execution_count" : null,
      "cell_type" : "code",
      "outputs" : [
        
      ]
    },
    {
      "metadata" : {
        
      },
      "source" : [
        "import FastaiNotebook_02a_why_sqrt5"
      ],
      "execution_count" : null,
      "outputs" : [
        
      ],
      "cell_type" : "code"
    },
    {
      "cell_type" : "markdown",
      "source" : [
        "Our labels will be integeres from now on, so to go with our `TF` abbreviation, we introduce `TI`."
      ],
      "metadata" : {
        
      }
    },
    {
      "metadata" : {
        
      },
      "source" : [
        "\/\/ export\n",
        "public typealias TI = Tensor<Int32>"
      ],
      "outputs" : [
        
      ],
      "execution_count" : null,
      "cell_type" : "code"
    },
    {
      "cell_type" : "markdown",
      "source" : [
        "### Data"
      ],
      "metadata" : {
        
      }
    },
    {
      "cell_type" : "markdown",
      "source" : [
        "We gather the MNIST data like in the previous notebooks."
      ],
      "metadata" : {
        
      }
    },
    {
      "metadata" : {
        
      },
      "source" : [
        "var (xTrain,yTrain,xValid,yValid) = loadMNIST(path: Path.home\/\".fastai\"\/\"data\"\/\"mnist_tst\", flat: true)"
      ],
      "outputs" : [
        
      ],
      "execution_count" : null,
      "cell_type" : "code"
    },
    {
      "metadata" : {
        
      },
      "source" : [
        "let trainMean = xTrain.mean()\n",
        "let trainStd  = xTrain.std()"
      ],
      "execution_count" : null,
      "outputs" : [
        
      ],
      "cell_type" : "code"
    },
    {
      "metadata" : {
        
      },
      "source" : [
        "xTrain = normalize(xTrain, mean: trainMean, std: trainStd)\n",
        "xValid = normalize(xValid, mean: trainMean, std: trainStd)"
      ],
      "execution_count" : null,
      "cell_type" : "code",
      "outputs" : [
        
      ]
    },
    {
      "metadata" : {
        
      },
      "source" : [
        "let (n,m) = (xTrain.shape[0],xTrain.shape[1])\n",
        "let c = yTrain.max().scalarized()+1\n",
        "print(n,m,c)"
      ],
      "outputs" : [
        {
          "name" : "stdout",
          "text" : [
            "60000 784 10\r\n"
          ],
          "output_type" : "stream"
        }
      ],
      "cell_type" : "code",
      "execution_count" : null
    },
    {
      "cell_type" : "markdown",
      "source" : [
        "We also define a simple model using our `FADense` layers."
      ],
      "metadata" : {
        
      }
    },
    {
      "metadata" : {
        
      },
      "source" : [
        "let nHid = 50"
      ],
      "outputs" : [
        
      ],
      "execution_count" : null,
      "cell_type" : "code"
    },
    {
      "metadata" : {
        
      },
      "source" : [
        "public struct MyModel: Layer {\n",
        "    public var layer1: FADense<Float>\n",
        "    public var layer2: FADense<Float>\n",
        "    \n",
        "    public init(nIn: Int, nHid: Int, nOut: Int){\n",
        "        layer1 = FADense(nIn, nHid, activation: relu)\n",
        "        layer2 = FADense(nHid, nOut)\n",
        "    }\n",
        "    \n",
        "    @differentiable\n",
        "    public func callAsFunction(_ input: TF) -> TF {\n",
        "        return input.sequenced(through: layer1, layer2)\n",
        "    }\n",
        "}"
      ],
      "outputs" : [
        
      ],
      "cell_type" : "code",
      "execution_count" : null
    },
    {
      "metadata" : {
        
      },
      "source" : [
        "var model = MyModel(nIn: m, nHid: nHid, nOut: Int(c))"
      ],
      "execution_count" : null,
      "outputs" : [
        
      ],
      "cell_type" : "code"
    },
    {
      "metadata" : {
        
      },
      "source" : [
        "let pred = model(xTrain)"
      ],
      "outputs" : [
        
      ],
      "cell_type" : "code",
      "execution_count" : null
    },
    {
      "cell_type" : "markdown",
      "source" : [
        "### Cross entropy loss"
      ],
      "metadata" : {
        
      }
    },
    {
      "cell_type" : "markdown",
      "source" : [
        "Before we can train our model, we need to have a loss function. We saw how to write `logSoftMax` from scratch in PyTorch, but let's do it once in swift too."
      ],
      "metadata" : {
        
      }
    },
    {
      "metadata" : {
        
      },
      "source" : [
        "func logSoftmax<Scalar>(_ activations: Tensor<Scalar>) -> Tensor<Scalar> where Scalar:TensorFlowFloatingPoint{\n",
        "    let exped = exp(activations) \n",
        "    return log(exped \/ exped.sum(alongAxes: -1))\n",
        "}"
      ],
      "execution_count" : null,
      "cell_type" : "code",
      "outputs" : [
        
      ]
    },
    {
      "metadata" : {
        
      },
      "source" : [
        "let smPred = logSoftmax(pred)"
      ],
      "outputs" : [
        
      ],
      "cell_type" : "code",
      "execution_count" : null
    },
    {
      "metadata" : {
        
      },
      "source" : [
        "yTrain[0..<3]"
      ],
      "execution_count" : null,
      "outputs" : [
        {
          "data" : {
            "text\/plain" : [
              "[5, 0, 4]\n"
            ]
          },
          "execution_count" : null,
          "output_type" : "execute_result",
          "metadata" : {
            
          }
        }
      ],
      "cell_type" : "code"
    },
    {
      "metadata" : {
        
      },
      "source" : [
        "(smPred[0][5],smPred[1][0],smPred[2][4])"
      ],
      "execution_count" : null,
      "cell_type" : "code",
      "outputs" : [
        {
          "data" : {
            "text\/plain" : [
              "▿ 3 elements\n",
              "  - .0 : -1.5199357\n",
              "  - .1 : -1.3653939\n",
              "  - .2 : -1.5241796\n"
            ]
          },
          "output_type" : "execute_result",
          "execution_count" : null,
          "metadata" : {
            
          }
        }
      ]
    },
    {
      "cell_type" : "markdown",
      "source" : [
        "There is no fancy indexing yet so we have to use gather to get the indices we want out of our softmaxed predictions."
      ],
      "metadata" : {
        
      }
    },
    {
      "metadata" : {
        
      },
      "source" : [
        "func nll<Scalar>(_ input: Tensor<Scalar>, _ target :TI) -> Tensor<Scalar> \n",
        "    where Scalar:TensorFlowFloatingPoint{\n",
        "        let idx: TI = Raw.range(start: Tensor(0), limit: Tensor(numericCast(target.shape[0])), delta: Tensor(1))\n",
        "        let indices = Raw.concat(concatDim: Tensor(1), [idx.expandingShape(at: 1), target.expandingShape(at: 1)])\n",
        "        let losses = Raw.gatherNd(params: input, indices: indices)\n",
        "        return -losses.mean()\n",
        "    }"
      ],
      "outputs" : [
        
      ],
      "cell_type" : "code",
      "execution_count" : null
    },
    {
      "metadata" : {
        
      },
      "source" : [
        "nll(smPred, yTrain)"
      ],
      "outputs" : [
        {
          "data" : {
            "text\/plain" : [
              "2.5771885\n"
            ]
          },
          "output_type" : "execute_result",
          "execution_count" : null,
          "metadata" : {
            
          }
        }
      ],
      "execution_count" : null,
      "cell_type" : "code"
    },
    {
      "metadata" : {
        
      },
      "source" : [
        "time(repeating: 100){ let _ = nll(smPred, yTrain) }"
      ],
      "outputs" : [
        {
          "name" : "stdout",
          "text" : [
            "average: 0.82572371 ms,   min: 0.616266 ms,   max: 1.456674 ms\r\n"
          ],
          "output_type" : "stream"
        }
      ],
      "execution_count" : null,
      "cell_type" : "code"
    },
    {
      "cell_type" : "markdown",
      "source" : [
        "Simplify `logSoftmax` with log formulas."
      ],
      "metadata" : {
        
      }
    },
    {
      "metadata" : {
        
      },
      "source" : [
        "func logSoftmax<Scalar>(_ activations: Tensor<Scalar>) -> Tensor<Scalar> where Scalar:TensorFlowFloatingPoint{\n",
        "    return activations - log(exp(activations).sum(alongAxes: -1))\n",
        "}"
      ],
      "execution_count" : null,
      "cell_type" : "code",
      "outputs" : [
        
      ]
    },
    {
      "metadata" : {
        
      },
      "source" : [
        "let smPred = logSoftmax(pred)"
      ],
      "execution_count" : null,
      "cell_type" : "code",
      "outputs" : [
        
      ]
    },
    {
      "metadata" : {
        
      },
      "source" : [
        "nll(smPred, yTrain)"
      ],
      "outputs" : [
        {
          "data" : {
            "text\/plain" : [
              "2.5771885\n"
            ]
          },
          "output_type" : "execute_result",
          "execution_count" : null,
          "metadata" : {
            
          }
        }
      ],
      "cell_type" : "code",
      "execution_count" : null
    },
    {
      "cell_type" : "markdown",
      "source" : [
        "We know use the LogSumExp trick"
      ],
      "metadata" : {
        
      }
    },
    {
      "metadata" : {
        
      },
      "source" : [
        "smPred.max(alongAxes: -1).shape"
      ],
      "execution_count" : null,
      "outputs" : [
        {
          "data" : {
            "text\/plain" : [
              "▿ [60000, 1]\n",
              "  ▿ dimensions : 2 elements\n",
              "    - 0 : 60000\n",
              "    - 1 : 1\n"
            ]
          },
          "execution_count" : null,
          "output_type" : "execute_result",
          "metadata" : {
            
          }
        }
      ],
      "cell_type" : "code"
    },
    {
      "metadata" : {
        
      },
      "source" : [
        "func logSumExp<Scalar>(_ x: Tensor<Scalar>) -> Tensor<Scalar> where Scalar:TensorFlowFloatingPoint{\n",
        "    let m = x.max(alongAxes: -1)\n",
        "    return m + log(exp(x-m).sum(alongAxes: -1))\n",
        "}"
      ],
      "execution_count" : null,
      "outputs" : [
        
      ],
      "cell_type" : "code"
    },
    {
      "metadata" : {
        
      },
      "source" : [
        "func logSoftmax<Scalar>(_ activations: Tensor<Scalar>) -> Tensor<Scalar> where Scalar:TensorFlowFloatingPoint{\n",
        "    return activations - logSumExp(activations)\n",
        "}"
      ],
      "outputs" : [
        
      ],
      "execution_count" : null,
      "cell_type" : "code"
    },
    {
      "metadata" : {
        
      },
      "source" : [
        "let smPred = logSoftmax(pred)"
      ],
      "execution_count" : null,
      "cell_type" : "code",
      "outputs" : [
        
      ]
    },
    {
      "metadata" : {
        
      },
      "source" : [
        "nll(smPred, yTrain)"
      ],
      "execution_count" : null,
      "outputs" : [
        {
          "data" : {
            "text\/plain" : [
              "2.5771885\n"
            ]
          },
          "output_type" : "execute_result",
          "execution_count" : null,
          "metadata" : {
            
          }
        }
      ],
      "cell_type" : "code"
    },
    {
      "cell_type" : "markdown",
      "source" : [
        "In S4TF nll loss is combined with softmax in:"
      ],
      "metadata" : {
        
      }
    },
    {
      "metadata" : {
        
      },
      "source" : [
        "let loss = softmaxCrossEntropy(logits: pred, labels: yTrain)\n",
        "loss"
      ],
      "outputs" : [
        {
          "data" : {
            "text\/plain" : [
              "2.5771885\n"
            ]
          },
          "execution_count" : null,
          "output_type" : "execute_result",
          "metadata" : {
            
          }
        }
      ],
      "cell_type" : "code",
      "execution_count" : null
    },
    {
      "metadata" : {
        
      },
      "source" : [
        "time(repeating: 100){ _ = nll(logSoftmax(pred), yTrain)}"
      ],
      "execution_count" : null,
      "outputs" : [
        {
          "name" : "stdout",
          "text" : [
            "average: 0.9240072600000001 ms,   min: 0.744605 ms,   max: 1.657011 ms\r\n"
          ],
          "output_type" : "stream"
        }
      ],
      "cell_type" : "code"
    },
    {
      "metadata" : {
        
      },
      "source" : [
        "time(repeating: 100){ _ = softmaxCrossEntropy(logits: pred, labels: yTrain)}"
      ],
      "execution_count" : null,
      "outputs" : [
        {
          "name" : "stdout",
          "text" : [
            "average: 0.2646309 ms,   min: 0.190901 ms,   max: 0.509837 ms\r\n"
          ],
          "output_type" : "stream"
        }
      ],
      "cell_type" : "code"
    },
    {
      "cell_type" : "markdown",
      "source" : [
        "## Basic training loop"
      ],
      "metadata" : {
        
      }
    },
    {
      "cell_type" : "markdown",
      "source" : [
        "Basically the training loop repeats over the following steps:\n",
        "- get the output of the model on a batch of inputs\n",
        "- compare the output to the labels we have and compute a loss\n",
        "- calculate the gradients of the loss with respect to every parameter of the model\n",
        "- update said parameters with those gradients to make them a little bit better"
      ],
      "metadata" : {
        
      }
    },
    {
      "metadata" : {
        
      },
      "source" : [
        "\/\/ export\n",
        "public func accuracy(_ output: TF, _ target: TI) -> TF{\n",
        "    let corrects = TF(output.argmax(squeezingAxis: 1) .== target)\n",
        "    return corrects.mean()\n",
        "}"
      ],
      "outputs" : [
        
      ],
      "execution_count" : null,
      "cell_type" : "code"
    },
    {
      "cell_type" : "markdown",
      "source" : [
        "We have a raw model for now, so it should be as good as random: 10% accuracy."
      ],
      "metadata" : {
        
      }
    },
    {
      "metadata" : {
        
      },
      "source" : [
        "print(accuracy(pred, yTrain))"
      ],
      "outputs" : [
        {
          "name" : "stdout",
          "text" : [
            "0.10823333\r\n"
          ],
          "output_type" : "stream"
        }
      ],
      "cell_type" : "code",
      "execution_count" : null
    },
    {
      "cell_type" : "markdown",
      "source" : [
        "So let's begin with a minibatch."
      ],
      "metadata" : {
        
      }
    },
    {
      "metadata" : {
        
      },
      "source" : [
        "let bs=64                     \/\/ batch size\n",
        "let xb = xTrain[0..<bs]       \/\/ a mini-batch from x\n",
        "let preds = model(xb)         \/\/ predictions\n",
        "print(preds[0], preds.shape)"
      ],
      "outputs" : [
        {
          "name" : "stdout",
          "text" : [
            "[ 0.16081482,  -2.2482698,  0.11873133,   1.3538868,    0.835476,   1.1804941, 0.000793502,\r\n",
            "  -0.2626465,   0.0443073,  -1.4672346] [64, 10]\r\n"
          ],
          "output_type" : "stream"
        }
      ],
      "execution_count" : null,
      "cell_type" : "code"
    },
    {
      "cell_type" : "markdown",
      "source" : [
        "Then we can compute a loss"
      ],
      "metadata" : {
        
      }
    },
    {
      "metadata" : {
        
      },
      "source" : [
        "let yb = yTrain[0..<bs]\n",
        "let loss = softmaxCrossEntropy(logits: preds, labels: yb)"
      ],
      "execution_count" : null,
      "outputs" : [
        
      ],
      "cell_type" : "code"
    },
    {
      "metadata" : {
        
      },
      "source" : [
        "print(accuracy(preds, yb))"
      ],
      "outputs" : [
        {
          "name" : "stdout",
          "text" : [
            "0.15625\r\n"
          ],
          "output_type" : "stream"
        }
      ],
      "execution_count" : null,
      "cell_type" : "code"
    },
    {
      "metadata" : {
        
      },
      "source" : [
        "let lr:Float = 0.5   \/\/ learning rate\n",
        "let epochs = 1       \/\/ how many epochs to train for"
      ],
      "outputs" : [
        
      ],
      "cell_type" : "code",
      "execution_count" : null
    },
    {
      "cell_type" : "markdown",
      "source" : [
        "Then we can get our loss and gradients."
      ],
      "metadata" : {
        
      }
    },
    {
      "cell_type" : "markdown",
      "source" : [
        "Sometimes you'll see closures written this way (required if there is >1 statement in it)."
      ],
      "metadata" : {
        
      }
    },
    {
      "metadata" : {
        
      },
      "source" : [
        "let (loss, grads) = model.valueWithGradient { model -> TF in\n",
        "    let preds = model(xb)\n",
        "    return softmaxCrossEntropy(logits: preds, labels: yb)\n",
        "}"
      ],
      "execution_count" : null,
      "outputs" : [
        
      ],
      "cell_type" : "code"
    },
    {
      "cell_type" : "markdown",
      "source" : [
        "The full loop by hand would look like this:"
      ],
      "metadata" : {
        
      }
    },
    {
      "metadata" : {
        
      },
      "source" : [
        "for epoch in 1 ... epochs {\n",
        "    for i in 0 ..< (n-1)\/bs {\n",
        "        let startIdx = i * bs\n",
        "        let endIdx = startIdx + bs\n",
        "        let xb = xTrain[startIdx..<endIdx]\n",
        "        let yb = yTrain[startIdx..<endIdx]\n",
        "        let (loss, grads) = model.valueWithGradient {\n",
        "            softmaxCrossEntropy(logits: $0(xb), labels: yb)\n",
        "        }\n",
        "        model.layer1.weight -= lr * grads.layer1.weight\n",
        "        model.layer1.bias   -= lr * grads.layer1.bias\n",
        "        model.layer2.weight -= lr * grads.layer2.weight\n",
        "        model.layer2.bias   -= lr * grads.layer2.bias\n",
        "    }\n",
        "}"
      ],
      "execution_count" : null,
      "cell_type" : "code",
      "outputs" : [
        
      ]
    },
    {
      "metadata" : {
        
      },
      "source" : [
        "let preds = model(xValid)\n",
        "accuracy(preds, yValid)"
      ],
      "outputs" : [
        {
          "data" : {
            "text\/plain" : [
              "0.8877\n"
            ]
          },
          "execution_count" : null,
          "output_type" : "execute_result",
          "metadata" : {
            
          }
        }
      ],
      "cell_type" : "code",
      "execution_count" : null
    },
    {
      "cell_type" : "markdown",
      "source" : [
        "`>80%` in one epoch, not too bad!"
      ],
      "metadata" : {
        
      }
    },
    {
      "cell_type" : "markdown",
      "source" : [
        "When we get the gradients of our model, we have another structure of the same type, and it's possible to perform basic arithmetic on those structures to make the update step super simple:"
      ],
      "metadata" : {
        
      }
    },
    {
      "metadata" : {
        
      },
      "source" : [
        "for epoch in 1 ... epochs {\n",
        "    for i in 0 ..< (n-1)\/bs {\n",
        "        let startIdx = i * bs\n",
        "        let endIdx = startIdx + bs\n",
        "        let xb = xTrain[startIdx..<endIdx]\n",
        "        let yb = yTrain[startIdx..<endIdx]\n",
        "        let (loss, grads) = model.valueWithGradient {\n",
        "            softmaxCrossEntropy(logits: $0(xb), labels: yb)\n",
        "        }\n",
        "        model.move(along: grads.scaled(by: -lr))\n",
        "    }\n",
        "}"
      ],
      "outputs" : [
        
      ],
      "cell_type" : "code",
      "execution_count" : null
    },
    {
      "cell_type" : "markdown",
      "source" : [
        "Then we can use a S4TF optimizer to do the step for us (which doesn't win much just yet - but will be nice when we can use momentum, adam, etc). An optimizer takes a `Layer` object and some gradients, and will perform the update."
      ],
      "metadata" : {
        
      }
    },
    {
      "metadata" : {
        
      },
      "source" : [
        "let optimizer = SGD(for: model, learningRate: lr)"
      ],
      "execution_count" : null,
      "outputs" : [
        
      ],
      "cell_type" : "code"
    },
    {
      "cell_type" : "markdown",
      "source" : [
        "Here's a handy function (thanks for Alexis Gallagher) to grab a batch of indices at a time."
      ],
      "metadata" : {
        
      }
    },
    {
      "metadata" : {
        
      },
      "source" : [
        "\/\/ export\n",
        "public func batchedRanges(start:Int, end:Int, bs:Int) -> UnfoldSequence<Range<Int>,Int>\n",
        "{\n",
        "  return sequence(state: start) { (batchStart) -> Range<Int>? in\n",
        "    let remaining = end - batchStart\n",
        "    guard remaining > 0 else { return nil}\n",
        "    let currentBs = min(bs,remaining)\n",
        "    let batchEnd = batchStart.advanced(by: currentBs)\n",
        "    defer {  batchStart = batchEnd  }\n",
        "    return batchStart ..< batchEnd\n",
        "  }\n",
        "}"
      ],
      "execution_count" : null,
      "cell_type" : "code",
      "outputs" : [
        
      ]
    },
    {
      "metadata" : {
        
      },
      "source" : [
        "for epoch in 1 ... epochs{\n",
        "    for b in batchedRanges(start: 0, end: n, bs: bs) {\n",
        "        let (xb,yb) = (xTrain[b],yTrain[b])\n",
        "        let (loss, grads) = model.valueWithGradient {\n",
        "            softmaxCrossEntropy(logits: $0(xb), labels: yb)\n",
        "        }\n",
        "        optimizer.update(&model, along: grads)\n",
        "    }\n",
        "}"
      ],
      "outputs" : [
        
      ],
      "execution_count" : null,
      "cell_type" : "code"
    },
    {
      "cell_type" : "markdown",
      "source" : [
        "## Dataset"
      ],
      "metadata" : {
        
      }
    },
    {
      "cell_type" : "markdown",
      "source" : [
        "We can create a swift `Dataset` from our arrays. It will automatically batch things for us:"
      ],
      "metadata" : {
        
      }
    },
    {
      "metadata" : {
        
      },
      "source" : [
        "\/\/ export\n",
        "public struct DataBatch<Inputs: Differentiable & TensorGroup, Labels: TensorGroup>: TensorGroup {\n",
        "    public var xb: Inputs\n",
        "    public var yb: Labels\n",
        "    \n",
        "    public init(xb: Inputs, yb: Labels){ (self.xb,self.yb) = (xb,yb) }\n",
        "    \n",
        "    public var _tensorHandles: [_AnyTensorHandle] {\n",
        "        xb._tensorHandles + yb._tensorHandles\n",
        "    }\n",
        "    \n",
        "    public init<C: RandomAccessCollection>(_handles: C) where C.Element: _AnyTensorHandle {\n",
        "        let xStart = _handles.startIndex\n",
        "        let xEnd = _handles.index(\n",
        "            xStart, offsetBy: Int(Inputs._tensorHandleCount))\n",
        "        self.xb = Inputs.init(_handles: _handles[xStart..<xEnd])\n",
        "        self.yb = Labels.init(_handles: _handles[xEnd..<_handles.endIndex])\n",
        "    }\n",
        "}"
      ],
      "outputs" : [
        
      ],
      "execution_count" : null,
      "cell_type" : "code"
    },
    {
      "metadata" : {
        
      },
      "source" : [
        "let trainDs = Dataset(elements:DataBatch(xb:xTrain, yb:yTrain)).batched(bs)"
      ],
      "outputs" : [
        
      ],
      "cell_type" : "code",
      "execution_count" : null
    },
    {
      "metadata" : {
        
      },
      "source" : [
        "for epoch in 1...epochs{\n",
        "    for batch in trainDs {\n",
        "        let (loss, grads) = model.valueWithGradient {\n",
        "            softmaxCrossEntropy(logits: $0(xb), labels: yb)\n",
        "        }\n",
        "        optimizer.update(&model, along: grads)\n",
        "    }\n",
        "}"
      ],
      "outputs" : [
        
      ],
      "cell_type" : "code",
      "execution_count" : null
    },
    {
      "cell_type" : "markdown",
      "source" : [
        "This `Dataset` can also do the shuffle for us:"
      ],
      "metadata" : {
        
      }
    },
    {
      "metadata" : {
        
      },
      "source" : [
        "for epoch in 1...epochs{\n",
        "    for batch in trainDs.shuffled(sampleCount: yTrain.shape[0], randomSeed: 42){\n",
        "        let (loss, grads) = model.valueWithGradient {\n",
        "            softmaxCrossEntropy(logits: $0(xb), labels: yb)\n",
        "        }\n",
        "        optimizer.update(&model, along: grads)\n",
        "    }\n",
        "}"
      ],
      "outputs" : [
        
      ],
      "execution_count" : null,
      "cell_type" : "code"
    },
    {
      "cell_type" : "markdown",
      "source" : [
        "### Training loop"
      ],
      "metadata" : {
        
      }
    },
    {
      "cell_type" : "markdown",
      "source" : [
        "With everything before, we can now write a generic training loop. It needs two generic types: the optimizer (`Opt`) and the labels (`Label`):"
      ],
      "metadata" : {
        
      }
    },
    {
      "metadata" : {
        
      },
      "source" : [
        "public func train<Opt: Optimizer, Label:TensorGroup>(\n",
        "    _ model: inout Opt.Model,\n",
        "    on ds: Dataset<DataBatch<Opt.Model.Input, Label>>,\n",
        "    using opt: inout Opt,\n",
        "    lossFunc: @escaping @differentiable (Opt.Model.Output, @nondiff Label) -> Tensor<Opt.Scalar>\n",
        ") where Opt.Model: Layer,\n",
        "        Opt.Model.Input: TensorGroup,\n",
        "        Opt.Scalar: TensorFlowFloatingPoint\n",
        "{\n",
        "    for batch in ds {\n",
        "        let (loss, 𝛁model) = model.valueWithGradient {\n",
        "            lossFunc($0(batch.xb), batch.yb)\n",
        "        }\n",
        "        opt.update(&model, along: 𝛁model)\n",
        "    }\n",
        "}"
      ],
      "outputs" : [
        
      ],
      "cell_type" : "code",
      "execution_count" : null
    },
    {
      "metadata" : {
        
      },
      "source" : [
        "var model = MyModel(nIn: m, nHid: nHid, nOut: Int(c))\n",
        "var optimizer = SGD(for: model, learningRate: lr)"
      ],
      "outputs" : [
        
      ],
      "cell_type" : "code",
      "execution_count" : null
    },
    {
      "cell_type" : "markdown",
      "source" : [
        "We can't use directly `sofmaxCrossEntropy` because it has a reduction parameter, so we define a fastai version."
      ],
      "metadata" : {
        
      }
    },
    {
      "metadata" : {
        
      },
      "source" : [
        "\/\/ export\n",
        "@differentiable(wrt: logits)\n",
        "public func crossEntropy(_ logits: TF, _ labels: TI) -> TF {\n",
        "    return softmaxCrossEntropy(logits: logits, labels: labels)\n",
        "}"
      ],
      "execution_count" : null,
      "outputs" : [
        
      ],
      "cell_type" : "code"
    },
    {
      "metadata" : {
        
      },
      "source" : [
        "train(&model, on: trainDs, using: &optimizer, lossFunc: crossEntropy)"
      ],
      "execution_count" : null,
      "cell_type" : "code",
      "outputs" : [
        
      ]
    },
    {
      "metadata" : {
        
      },
      "source" : [
        "let preds = model(xValid)\n",
        "accuracy(preds, yValid)"
      ],
      "outputs" : [
        {
          "data" : {
            "text\/plain" : [
              "0.9286\n"
            ]
          },
          "execution_count" : null,
          "output_type" : "execute_result",
          "metadata" : {
            
          }
        }
      ],
      "cell_type" : "code",
      "execution_count" : null
    },
    {
      "cell_type" : "markdown",
      "source" : [
        "### Export"
      ],
      "metadata" : {
        
      }
    },
    {
      "metadata" : {
        
      },
      "source" : [
        "import NotebookExport\n",
        "let exporter = NotebookExport(Path.cwd\/\"03_minibatch_training.ipynb\")\n",
        "print(exporter.export(usingPrefix: \"FastaiNotebook_\"))"
      ],
      "outputs" : [
        {
          "name" : "stdout",
          "text" : [
            "success\r\n"
          ],
          "output_type" : "stream"
        }
      ],
      "cell_type" : "code",
      "execution_count" : null
    },
    {
      "metadata" : {
        
      },
      "source" : [
        
      ],
      "execution_count" : null,
      "cell_type" : "code",
      "outputs" : [
        
      ]
    }
  ],
  "nbformat" : 4,
  "metadata" : {
    "kernelspec" : {
      "name" : "swift",
      "display_name" : "Swift",
      "language" : "swift"
    }
  }
}