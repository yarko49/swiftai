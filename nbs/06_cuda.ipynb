{
  "nbformat_minor" : 2,
  "cells" : [
    {
      "cell_type" : "markdown",
      "source" : [
        "# A CNN Mnist Model"
      ],
      "metadata" : {
        
      }
    },
    {
      "source" : [
        "%install-location $cwd\/swift-install\n",
        "%install '.package(path: \"$cwd\/FastaiNotebook_05b_early_stopping\")' FastaiNotebook_05b_early_stopping"
      ],
      "outputs" : [
        
      ],
      "execution_count" : null,
      "metadata" : {
        
      },
      "cell_type" : "code"
    },
    {
      "source" : [
        "\/\/ export\n",
        "import Path\n",
        "import TensorFlow\n",
        "import Python"
      ],
      "execution_count" : null,
      "metadata" : {
        
      },
      "outputs" : [
        
      ],
      "cell_type" : "code"
    },
    {
      "source" : [
        "import FastaiNotebook_05b_early_stopping"
      ],
      "outputs" : [
        
      ],
      "execution_count" : null,
      "metadata" : {
        
      },
      "cell_type" : "code"
    },
    {
      "source" : [
        "%include \"EnableIPythonDisplay.swift\"\n",
        "IPythonDisplay.shell.enable_matplotlib(\"inline\")"
      ],
      "execution_count" : null,
      "outputs" : [
        
      ],
      "metadata" : {
        
      },
      "cell_type" : "code"
    },
    {
      "cell_type" : "markdown",
      "source" : [
        "## Load data"
      ],
      "metadata" : {
        
      }
    },
    {
      "source" : [
        "let data = mnistDataBunch(flat: false, bs: 512)"
      ],
      "execution_count" : null,
      "metadata" : {
        
      },
      "outputs" : [
        
      ],
      "cell_type" : "code"
    },
    {
      "source" : [
        "let firstBatch = data.train.ds.first(where: { _ in true })!\n",
        "let batchShape = firstBatch.xb.shape\n",
        "let batchSize = batchShape.dimensions[0]\n",
        "let exampleSideSize = batchShape.dimensions[1]\n",
        "assert(exampleSideSize == batchShape.dimensions[2])\n",
        "print(\"Batch size: \\(batchSize)\")\n",
        "print(\"Example side size: \\(exampleSideSize)\")\n",
        "\n",
        "let classCount = firstBatch.yb.shape.dimensions[0]\n",
        "print(\"Class count: \\(classCount)\")"
      ],
      "outputs" : [
        
      ],
      "metadata" : {
        
      },
      "execution_count" : null,
      "cell_type" : "code"
    },
    {
      "source" : [
        "firstBatch.xb.shape"
      ],
      "outputs" : [
        
      ],
      "execution_count" : null,
      "metadata" : {
        
      },
      "cell_type" : "code"
    },
    {
      "source" : [
        "\/\/ export\n",
        "extension Learner {\n",
        "    public class AddChannel: Delegate {\n",
        "        public override func batchWillStart(learner: Learner) {\n",
        "            learner.currentInput = learner.currentInput!.expandingShape(at: -1)\n",
        "        }\n",
        "    }\n",
        "    \n",
        "    public func makeAddChannel() -> AddChannel { return AddChannel() }\n",
        "}"
      ],
      "outputs" : [
        
      ],
      "execution_count" : null,
      "metadata" : {
        
      },
      "cell_type" : "code"
    },
    {
      "source" : [
        "\/\/ export\n",
        "public struct CnnModel: Layer {\n",
        "    public var convs: [FAConv2D<Float>]\n",
        "    public var pool = FAGlobalAvgPool2D<Float>()\n",
        "    public var linear: FADense<Float>\n",
        "    \n",
        "    public init(channelIn: Int, nOut: Int, filters: [Int]){\n",
        "        let allFilters = [channelIn] + filters\n",
        "        convs = Array(0..<filters.count).map { i in\n",
        "            return FAConv2D(allFilters[i], allFilters[i+1], ks: 3, stride: 2)\n",
        "        }\n",
        "        linear = FADense<Float>(filters.last!, nOut)\n",
        "    }\n",
        "    \n",
        "    @differentiable\n",
        "    public func callAsFunction(_ input: TF) -> TF {\n",
        "        return linear(pool(convs(input)))\n",
        "    }\n",
        "}"
      ],
      "outputs" : [
        
      ],
      "execution_count" : null,
      "metadata" : {
        
      },
      "cell_type" : "code"
    },
    {
      "source" : [
        "let model = CnnModel(channelIn: 1, nOut: 10, filters: [8, 16, 32, 32])"
      ],
      "execution_count" : null,
      "metadata" : {
        
      },
      "outputs" : [
        
      ],
      "cell_type" : "code"
    },
    {
      "source" : [
        "\/\/ Test that data goes through the model as expected.\n",
        "let predictions = model(firstBatch.xb.expandingShape(at: -1))\n",
        "print(predictions.shape)\n",
        "print(predictions[0])"
      ],
      "execution_count" : null,
      "outputs" : [
        
      ],
      "metadata" : {
        
      },
      "cell_type" : "code"
    },
    {
      "cell_type" : "markdown",
      "source" : [
        "# Compare training on CPU and GPU"
      ],
      "metadata" : {
        
      }
    },
    {
      "source" : [
        "func optFunc(_ model: CnnModel) -> SGD<CnnModel> { return SGD(for: model, learningRate: 0.4)}\n",
        "func modelInit() -> CnnModel { return CnnModel(channelIn: 1, nOut: 10, filters: [8, 16, 32, 32]) }\n",
        "let learner = Learner(data: data, lossFunc: softmaxCrossEntropy, optFunc: optFunc, modelInit: modelInit)\n",
        "let recorder = learner.makeDefaultDelegates(metrics: [accuracy])\n",
        "learner.addDelegates([learner.makeNormalize(mean: mnistStats.mean, std: mnistStats.std),\n",
        "                      learner.makeAddChannel()])"
      ],
      "execution_count" : null,
      "metadata" : {
        
      },
      "outputs" : [
        
      ],
      "cell_type" : "code"
    },
    {
      "source" : [
        "\/\/ This happens on the GPU (if you have one and it's configured correctly).\n",
        "\/\/ I tried this on a GCE 8vCPU 30GB + Tesla P100:\n",
        "\/\/ - time: ~4.3s\n",
        "\/\/ - nvidia-smi shows ~10% GPU-Util while this is running\n",
        "time { try! learner.fit(1) }"
      ],
      "execution_count" : null,
      "metadata" : {
        
      },
      "outputs" : [
        
      ],
      "cell_type" : "code"
    },
    {
      "source" : [
        "\/\/ This happens on the CPU.\n",
        "\/\/ I tried this on a GCE 8vCPU 30GB + Tesla P100:\n",
        "\/\/ - time: ~6.3s\n",
        "\/\/ - nvidia-smi shows 0% GPU-Util while this is running\n",
        "time {\n",
        "    withDevice(.cpu) { try! learner.fit(1) }\n",
        "}"
      ],
      "execution_count" : null,
      "metadata" : {
        
      },
      "outputs" : [
        
      ],
      "cell_type" : "code"
    },
    {
      "cell_type" : "markdown",
      "source" : [
        "# Collect Layer Activation Statistics"
      ],
      "metadata" : {
        
      }
    },
    {
      "source" : [
        "class ActivationStatsHook {\n",
        "    var means: [Float] = []\n",
        "    var stds: [Float] = []    \n",
        "    func update(_ act: TF) {\n",
        "        means.append(act.mean().scalarized())\n",
        "        stds.append (act.std() .scalarized())\n",
        "    }\n",
        "}"
      ],
      "execution_count" : null,
      "metadata" : {
        
      },
      "outputs" : [
        
      ],
      "cell_type" : "code"
    },
    {
      "source" : [
        "let learner = Learner(data: data, lossFunc: softmaxCrossEntropy, optFunc: optFunc, modelInit: modelInit)\n",
        "let recorder = learner.makeDefaultDelegates(metrics: [accuracy])\n",
        "learner.addDelegates([learner.makeNormalize(mean: mnistStats.mean, std: mnistStats.std),\n",
        "                      learner.makeAddChannel()])"
      ],
      "outputs" : [
        
      ],
      "metadata" : {
        
      },
      "execution_count" : null,
      "cell_type" : "code"
    },
    {
      "source" : [
        "var statHooks: [ActivationStatsHook] = (0..<learner.model.convs.count).map { i in \n",
        "    var stat = ActivationStatsHook()\n",
        "    learner.model.convs[i].addDelegate(stat.update)\n",
        "    return stat\n",
        "}"
      ],
      "execution_count" : null,
      "outputs" : [
        
      ],
      "metadata" : {
        
      },
      "cell_type" : "code"
    },
    {
      "source" : [
        "\/\/ This LayerDelegate stuff slows it down to ~6s\/epoch.\n",
        "time { try! learner.fit(2) }"
      ],
      "execution_count" : null,
      "outputs" : [
        
      ],
      "metadata" : {
        
      },
      "cell_type" : "code"
    },
    {
      "source" : [
        "for stat in statHooks {\n",
        "    plt.plot(stat.means)\n",
        "}\n",
        "plt.legend(Array(1...statHooks.count))\n",
        "plt.show()"
      ],
      "outputs" : [
        
      ],
      "metadata" : {
        
      },
      "execution_count" : null,
      "cell_type" : "code"
    },
    {
      "source" : [
        "for stat in statHooks {\n",
        "    plt.plot(stat.stds)\n",
        "}\n",
        "plt.legend(Array(1...statHooks.count))\n",
        "plt.show()"
      ],
      "outputs" : [
        
      ],
      "metadata" : {
        
      },
      "execution_count" : null,
      "cell_type" : "code"
    },
    {
      "cell_type" : "markdown",
      "source" : [
        "## Export"
      ],
      "metadata" : {
        
      }
    },
    {
      "source" : [
        "import NotebookExport\n",
        "let exporter = NotebookExport(Path.cwd\/\"06_cuda.ipynb\")\n",
        "print(exporter.export(usingPrefix: \"FastaiNotebook_\"))"
      ],
      "execution_count" : null,
      "outputs" : [
        
      ],
      "metadata" : {
        
      },
      "cell_type" : "code"
    },
    {
      "source" : [
        
      ],
      "execution_count" : null,
      "outputs" : [
        
      ],
      "metadata" : {
        
      },
      "cell_type" : "code"
    }
  ],
  "nbformat" : 4,
  "metadata" : {
    "kernelspec" : {
      "display_name" : "Swift",
      "language" : "swift",
      "name" : "swift"
    }
  }
}